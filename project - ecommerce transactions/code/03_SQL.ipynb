{
 "cells": [
  {
   "cell_type": "code",
   "execution_count": 178,
   "metadata": {},
   "outputs": [
    {
     "name": "stdout",
     "output_type": "stream",
     "text": [
      "Defaulting to user installation because normal site-packages is not writeable\n",
      "Requirement already satisfied: mysql-connector-python in /Users/shanelim/Library/Python/3.9/lib/python/site-packages (9.0.0)\n",
      "\u001b[33mWARNING: You are using pip version 21.2.4; however, version 24.2 is available.\n",
      "You should consider upgrading via the '/Library/Developer/CommandLineTools/usr/bin/python3 -m pip install --upgrade pip' command.\u001b[0m\n",
      "Note: you may need to restart the kernel to use updated packages.\n"
     ]
    }
   ],
   "source": [
    "pip install mysql-connector-python\n"
   ]
  },
  {
   "cell_type": "code",
   "execution_count": 179,
   "metadata": {},
   "outputs": [],
   "source": [
    "import mysql.connector\n",
    "import pandas as pd\n",
    "import matplotlib.pyplot as plt\n",
    "import numpy as np\n"
   ]
  },
  {
   "cell_type": "code",
   "execution_count": 180,
   "metadata": {},
   "outputs": [
    {
     "name": "stderr",
     "output_type": "stream",
     "text": [
      "/var/folders/vc/ylwdpxdx77b21ymkvj67t_h00000gn/T/ipykernel_1095/1330858986.py:11: UserWarning:\n",
      "\n",
      "pandas only supports SQLAlchemy connectable (engine/connection) or database string URI or sqlite3 DBAPI2 connection. Other DBAPI2 objects are not tested. Please consider using SQLAlchemy.\n",
      "\n"
     ]
    }
   ],
   "source": [
    "\n",
    "\n",
    "# Connect to MySQL\n",
    "connection = mysql.connector.connect(\n",
    "    host='localhost',\n",
    "    user='root',\n",
    "    password='X',\n",
    "    database='dataset'\n",
    ")\n",
    "\n",
    "# Query the data\n",
    "query = \"SELECT * FROM cleaned_001_lomo_customers_dataset;\"\n",
    "df = pd.read_sql(query, con=connection)\n",
    "\n",
    "# Close the connection\n",
    "connection.close()\n",
    "\n"
   ]
  },
  {
   "cell_type": "code",
   "execution_count": 181,
   "metadata": {},
   "outputs": [
    {
     "data": {
      "text/html": [
       "<div>\n",
       "<style scoped>\n",
       "    .dataframe tbody tr th:only-of-type {\n",
       "        vertical-align: middle;\n",
       "    }\n",
       "\n",
       "    .dataframe tbody tr th {\n",
       "        vertical-align: top;\n",
       "    }\n",
       "\n",
       "    .dataframe thead th {\n",
       "        text-align: right;\n",
       "    }\n",
       "</style>\n",
       "<table border=\"1\" class=\"dataframe\">\n",
       "  <thead>\n",
       "    <tr style=\"text-align: right;\">\n",
       "      <th></th>\n",
       "      <th>customer_id</th>\n",
       "      <th>customer_unique_id</th>\n",
       "      <th>customer_zip_code_prefix</th>\n",
       "      <th>customer_city</th>\n",
       "      <th>customer_state</th>\n",
       "    </tr>\n",
       "  </thead>\n",
       "  <tbody>\n",
       "    <tr>\n",
       "      <th>0</th>\n",
       "      <td>8535e7d171732dcdb3de48ff99040f6c</td>\n",
       "      <td>05c0c68fbdf283e56b37df9f2d20245c</td>\n",
       "      <td>TH100101</td>\n",
       "      <td>Phra Nakhon</td>\n",
       "      <td>Bangkok</td>\n",
       "    </tr>\n",
       "    <tr>\n",
       "      <th>1</th>\n",
       "      <td>045ce65dc053765839733057c287dbcb</td>\n",
       "      <td>1f69219bc86e6918b4751692323de642</td>\n",
       "      <td>TH100101</td>\n",
       "      <td>Phra Nakhon</td>\n",
       "      <td>Bangkok</td>\n",
       "    </tr>\n",
       "    <tr>\n",
       "      <th>2</th>\n",
       "      <td>c754052065714c0e304de22a0e5b7749</td>\n",
       "      <td>31b5e7b0290cf70ac603e77f85efb53f</td>\n",
       "      <td>TH100101</td>\n",
       "      <td>Phra Nakhon</td>\n",
       "      <td>Bangkok</td>\n",
       "    </tr>\n",
       "    <tr>\n",
       "      <th>3</th>\n",
       "      <td>d707092bd024342cd484143f8fd20a55</td>\n",
       "      <td>3f6faa55fa7e82f1245fff7e2118663b</td>\n",
       "      <td>TH100101</td>\n",
       "      <td>Phra Nakhon</td>\n",
       "      <td>Bangkok</td>\n",
       "    </tr>\n",
       "    <tr>\n",
       "      <th>4</th>\n",
       "      <td>6a899e55865de6549a58d2c6845e5604</td>\n",
       "      <td>3fb97204945ca0c01bcf3eee6031c5f1</td>\n",
       "      <td>TH100101</td>\n",
       "      <td>Phra Nakhon</td>\n",
       "      <td>Bangkok</td>\n",
       "    </tr>\n",
       "    <tr>\n",
       "      <th>...</th>\n",
       "      <td>...</td>\n",
       "      <td>...</td>\n",
       "      <td>...</td>\n",
       "      <td>...</td>\n",
       "      <td>...</td>\n",
       "    </tr>\n",
       "    <tr>\n",
       "      <th>99436</th>\n",
       "      <td>1dbe0bf136ea8849ed9648546ebc2e63</td>\n",
       "      <td>bd0d97c6af77a1ef4850255bd6d17fec</td>\n",
       "      <td>TH960905</td>\n",
       "      <td>Sukhirin</td>\n",
       "      <td>Narathiwat</td>\n",
       "    </tr>\n",
       "    <tr>\n",
       "      <th>99437</th>\n",
       "      <td>f4bc36ec33804416487b2a7051214db6</td>\n",
       "      <td>e613f7834ff4bd901915744d6b7a1a83</td>\n",
       "      <td>TH960905</td>\n",
       "      <td>Sukhirin</td>\n",
       "      <td>Narathiwat</td>\n",
       "    </tr>\n",
       "    <tr>\n",
       "      <th>99438</th>\n",
       "      <td>88c36fbd3df96094f90f0315e1d2dd90</td>\n",
       "      <td>e629cd3ff381ad0a234016fa7dd76f46</td>\n",
       "      <td>TH960905</td>\n",
       "      <td>Sukhirin</td>\n",
       "      <td>Narathiwat</td>\n",
       "    </tr>\n",
       "    <tr>\n",
       "      <th>99439</th>\n",
       "      <td>a01fcde31529708c8755a0226631c0d7</td>\n",
       "      <td>f34fd449c1a6da5fbf276eada6a5fba2</td>\n",
       "      <td>TH960905</td>\n",
       "      <td>Sukhirin</td>\n",
       "      <td>Narathiwat</td>\n",
       "    </tr>\n",
       "    <tr>\n",
       "      <th>99440</th>\n",
       "      <td>fa13a66883870e318eaf825f103d95b2</td>\n",
       "      <td>ff475e6edaf907efba6609f05d0b582d</td>\n",
       "      <td>TH960905</td>\n",
       "      <td>Sukhirin</td>\n",
       "      <td>Narathiwat</td>\n",
       "    </tr>\n",
       "  </tbody>\n",
       "</table>\n",
       "<p>99441 rows × 5 columns</p>\n",
       "</div>"
      ],
      "text/plain": [
       "                            customer_id                customer_unique_id  \\\n",
       "0      8535e7d171732dcdb3de48ff99040f6c  05c0c68fbdf283e56b37df9f2d20245c   \n",
       "1      045ce65dc053765839733057c287dbcb  1f69219bc86e6918b4751692323de642   \n",
       "2      c754052065714c0e304de22a0e5b7749  31b5e7b0290cf70ac603e77f85efb53f   \n",
       "3      d707092bd024342cd484143f8fd20a55  3f6faa55fa7e82f1245fff7e2118663b   \n",
       "4      6a899e55865de6549a58d2c6845e5604  3fb97204945ca0c01bcf3eee6031c5f1   \n",
       "...                                 ...                               ...   \n",
       "99436  1dbe0bf136ea8849ed9648546ebc2e63  bd0d97c6af77a1ef4850255bd6d17fec   \n",
       "99437  f4bc36ec33804416487b2a7051214db6  e613f7834ff4bd901915744d6b7a1a83   \n",
       "99438  88c36fbd3df96094f90f0315e1d2dd90  e629cd3ff381ad0a234016fa7dd76f46   \n",
       "99439  a01fcde31529708c8755a0226631c0d7  f34fd449c1a6da5fbf276eada6a5fba2   \n",
       "99440  fa13a66883870e318eaf825f103d95b2  ff475e6edaf907efba6609f05d0b582d   \n",
       "\n",
       "      customer_zip_code_prefix customer_city customer_state  \n",
       "0                     TH100101   Phra Nakhon        Bangkok  \n",
       "1                     TH100101   Phra Nakhon        Bangkok  \n",
       "2                     TH100101   Phra Nakhon        Bangkok  \n",
       "3                     TH100101   Phra Nakhon        Bangkok  \n",
       "4                     TH100101   Phra Nakhon        Bangkok  \n",
       "...                        ...           ...            ...  \n",
       "99436                 TH960905      Sukhirin     Narathiwat  \n",
       "99437                 TH960905      Sukhirin     Narathiwat  \n",
       "99438                 TH960905      Sukhirin     Narathiwat  \n",
       "99439                 TH960905      Sukhirin     Narathiwat  \n",
       "99440                 TH960905      Sukhirin     Narathiwat  \n",
       "\n",
       "[99441 rows x 5 columns]"
      ]
     },
     "execution_count": 181,
     "metadata": {},
     "output_type": "execute_result"
    }
   ],
   "source": [
    "df"
   ]
  },
  {
   "cell_type": "code",
   "execution_count": 182,
   "metadata": {},
   "outputs": [
    {
     "name": "stdout",
     "output_type": "stream",
     "text": [
      "Data successfully inserted into MySQL table.\n"
     ]
    }
   ],
   "source": [
    "\n",
    "# Have to import seperatel as MYSQL Workbench doesn't work well with Thai Letters\n",
    "\n",
    "# Load your cleaned data from the CSV (which you’ve already done)\n",
    "df_003 = pd.read_csv('dataset.csv', encoding='utf-8')\n",
    "\n",
    "# Step 1:\n",
    "connection = mysql.connector.connect(\n",
    "    host='localhost',\n",
    "    user='root',\n",
    "    password='X',\n",
    "    database='X'\n",
    ")\n",
    "# Step 2: Create a MySQL cursor object\n",
    "cursor = connection.cursor()\n",
    "\n",
    "# Step 3: Create a table in MySQL (if it doesn't exist already)\n",
    "cursor.execute(\"\"\"\n",
    "    CREATE TABLE IF NOT EXISTS lomo_geolocation_dataset (\n",
    "        object_id INT,\n",
    "        shape VARCHAR(255),\n",
    "        admin0_name_en VARCHAR(255),\n",
    "        admin0_name_th VARCHAR(255),\n",
    "        admin0_pcode VARCHAR(10),\n",
    "        admin1_name_en VARCHAR(255),\n",
    "        admin1_name_th VARCHAR(255),\n",
    "        admin1_pcode VARCHAR(10),\n",
    "        admin2_name_en VARCHAR(255),\n",
    "        admin2_name_th VARCHAR(255),\n",
    "        admin2_pcode VARCHAR(10),\n",
    "        admin3_name_en VARCHAR(255),\n",
    "        admin3_name_th VARCHAR(255),\n",
    "        admin3_pcode VARCHAR(10),\n",
    "        shape_length FLOAT,\n",
    "        shape_area FLOAT\n",
    "    ) CHARACTER SET utf8mb4;\n",
    "\"\"\")\n",
    "\n",
    "# Step 4: Insert data into the table row by row\n",
    "for index, row in df_003.iterrows():\n",
    "    cursor.execute(\"\"\"\n",
    "        INSERT INTO lomo_geolocation_dataset (\n",
    "            object_id, shape, admin0_name_en, admin0_name_th, admin0_pcode,\n",
    "            admin1_name_en, admin1_name_th, admin1_pcode,\n",
    "            admin2_name_en, admin2_name_th, admin2_pcode,\n",
    "            admin3_name_en, admin3_name_th, admin3_pcode,\n",
    "            shape_length, shape_area\n",
    "        ) VALUES (%s, %s, %s, %s, %s, %s, %s, %s, %s, %s, %s, %s, %s, %s, %s, %s)\n",
    "    \"\"\", tuple(row))\n",
    "\n",
    "# Commit the transaction\n",
    "connection.commit()\n",
    "\n",
    "# Step 5: Close the cursor and connection\n",
    "cursor.close()\n",
    "connection.close()\n",
    "\n",
    "print(\"Data successfully inserted into MySQL table.\")\n"
   ]
  },
  {
   "cell_type": "code",
   "execution_count": 183,
   "metadata": {},
   "outputs": [
    {
     "data": {
      "text/html": [
       "<div>\n",
       "<style scoped>\n",
       "    .dataframe tbody tr th:only-of-type {\n",
       "        vertical-align: middle;\n",
       "    }\n",
       "\n",
       "    .dataframe tbody tr th {\n",
       "        vertical-align: top;\n",
       "    }\n",
       "\n",
       "    .dataframe thead th {\n",
       "        text-align: right;\n",
       "    }\n",
       "</style>\n",
       "<table border=\"1\" class=\"dataframe\">\n",
       "  <thead>\n",
       "    <tr style=\"text-align: right;\">\n",
       "      <th></th>\n",
       "      <th>review_id</th>\n",
       "      <th>order_id</th>\n",
       "      <th>review_score</th>\n",
       "      <th>review_comment_title</th>\n",
       "      <th>review_comment_message</th>\n",
       "      <th>review_creation_date</th>\n",
       "      <th>review_answer_timestamp</th>\n",
       "    </tr>\n",
       "  </thead>\n",
       "  <tbody>\n",
       "    <tr>\n",
       "      <th>0</th>\n",
       "      <td>8670d52e15e00043ae7de4c01cc2fe06</td>\n",
       "      <td>b9bf720beb4ab3728760088589c62129</td>\n",
       "      <td>4</td>\n",
       "      <td>recomendo</td>\n",
       "      <td>aparelho eficiente. no site a marca do aparelh...</td>\n",
       "      <td>22/05/2018 00:00</td>\n",
       "      <td>23/05/2018 16:45</td>\n",
       "    </tr>\n",
       "    <tr>\n",
       "      <th>1</th>\n",
       "      <td>3948b09f7c818e2d86c9a546758b2335</td>\n",
       "      <td>e51478e7e277a83743b6f9991dbfa3fb</td>\n",
       "      <td>5</td>\n",
       "      <td>Super recomendo</td>\n",
       "      <td>Vendedor confiÃ¡vel, produto ok e entrega ante...</td>\n",
       "      <td>23/05/2018 00:00</td>\n",
       "      <td>24/05/2018 03:00</td>\n",
       "    </tr>\n",
       "    <tr>\n",
       "      <th>2</th>\n",
       "      <td>373cbeecea8286a2b66c97b1b157ec46</td>\n",
       "      <td>583174fbe37d3d5f0d6661be3aad1786</td>\n",
       "      <td>1</td>\n",
       "      <td>NÃ£o chegou meu produto</td>\n",
       "      <td>PÃ©ssimo</td>\n",
       "      <td>15/08/2018 00:00</td>\n",
       "      <td>15/08/2018 04:10</td>\n",
       "    </tr>\n",
       "    <tr>\n",
       "      <th>3</th>\n",
       "      <td>d21bbc789670eab777d27372ab9094cc</td>\n",
       "      <td>4fc44d78867142c627497b60a7e0228a</td>\n",
       "      <td>5</td>\n",
       "      <td>Ã“timo</td>\n",
       "      <td>Loja nota 10</td>\n",
       "      <td>10/07/2018 00:00</td>\n",
       "      <td>11/07/2018 14:10</td>\n",
       "    </tr>\n",
       "    <tr>\n",
       "      <th>4</th>\n",
       "      <td>c92cdd7dd544a01aa35137f901669cdf</td>\n",
       "      <td>37e7875cdce5a9e5b3a692971f370151</td>\n",
       "      <td>4</td>\n",
       "      <td>Muito bom.</td>\n",
       "      <td>Recebi exatamente o que esperava. As demais en...</td>\n",
       "      <td>07/06/2018 00:00</td>\n",
       "      <td>09/06/2018 18:44</td>\n",
       "    </tr>\n",
       "  </tbody>\n",
       "</table>\n",
       "</div>"
      ],
      "text/plain": [
       "                          review_id                          order_id  \\\n",
       "0  8670d52e15e00043ae7de4c01cc2fe06  b9bf720beb4ab3728760088589c62129   \n",
       "1  3948b09f7c818e2d86c9a546758b2335  e51478e7e277a83743b6f9991dbfa3fb   \n",
       "2  373cbeecea8286a2b66c97b1b157ec46  583174fbe37d3d5f0d6661be3aad1786   \n",
       "3  d21bbc789670eab777d27372ab9094cc  4fc44d78867142c627497b60a7e0228a   \n",
       "4  c92cdd7dd544a01aa35137f901669cdf  37e7875cdce5a9e5b3a692971f370151   \n",
       "\n",
       "   review_score     review_comment_title  \\\n",
       "0             4                recomendo   \n",
       "1             5          Super recomendo   \n",
       "2             1  NÃ£o chegou meu produto   \n",
       "3             5                   Ã“timo   \n",
       "4             4               Muito bom.   \n",
       "\n",
       "                              review_comment_message review_creation_date  \\\n",
       "0  aparelho eficiente. no site a marca do aparelh...     22/05/2018 00:00   \n",
       "1  Vendedor confiÃ¡vel, produto ok e entrega ante...     23/05/2018 00:00   \n",
       "2                                           PÃ©ssimo     15/08/2018 00:00   \n",
       "3                                       Loja nota 10     10/07/2018 00:00   \n",
       "4  Recebi exatamente o que esperava. As demais en...     07/06/2018 00:00   \n",
       "\n",
       "  review_answer_timestamp  \n",
       "0        23/05/2018 16:45  \n",
       "1        24/05/2018 03:00  \n",
       "2        15/08/2018 04:10  \n",
       "3        11/07/2018 14:10  \n",
       "4        09/06/2018 18:44  "
      ]
     },
     "execution_count": 183,
     "metadata": {},
     "output_type": "execute_result"
    }
   ],
   "source": [
    "df_009 = pd.read_csv('dataset.csv', encoding='utf-8')\n",
    "\n",
    "df_009.head()"
   ]
  },
  {
   "cell_type": "markdown",
   "metadata": {},
   "source": [
    "## SQL Queries"
   ]
  },
  {
   "cell_type": "code",
   "execution_count": 11,
   "metadata": {},
   "outputs": [],
   "source": [
    "pip install ipython-sql mysql-connector-python\n"
   ]
  },
  {
   "cell_type": "code",
   "execution_count": 31,
   "metadata": {},
   "outputs": [
    {
     "name": "stdout",
     "output_type": "stream",
     "text": [
      "The sql extension is already loaded. To reload it, use:\n",
      "  %reload_ext sql\n"
     ]
    }
   ],
   "source": [
    "%load_ext sql\n",
    "\n"
   ]
  },
  {
   "cell_type": "code",
   "execution_count": null,
   "metadata": {},
   "outputs": [],
   "source": [
    "%sql SELECT * FROM cleaned_007_lomo_order_items_dataset limit 5;"
   ]
  },
  {
   "cell_type": "code",
   "execution_count": null,
   "metadata": {},
   "outputs": [],
   "source": [
    "%%sql\n",
    "SELECT * FROM cleaned_006_lomo_orders_dataset\n",
    "limit 5;"
   ]
  },
  {
   "cell_type": "code",
   "execution_count": null,
   "metadata": {},
   "outputs": [],
   "source": [
    "%%sql\n",
    "SELECT * FROM cleaned_004_lomo_products_dataset\n",
    "limit 5;"
   ]
  },
  {
   "cell_type": "code",
   "execution_count": null,
   "metadata": {},
   "outputs": [],
   "source": [
    "\n",
    "%sql SELECT * FROM cleaned_005_lomo_product_category_name_translation limit 5;"
   ]
  },
  {
   "cell_type": "code",
   "execution_count": null,
   "metadata": {},
   "outputs": [],
   "source": [
    "\n",
    "\n",
    "query = \"\"\"\n",
    "DROP TABLE IF EXISTS products_ord_sell_in_eng;\n",
    "\n",
    "cREATE TABLE products_ord_sell_in_eng AS\n",
    "SELECT product_cat.product_id, product_category_name_english, seller_id, order_id, price\n",
    "FROM cleaned_005_lomo_product_category_name_translation AS product_translation\n",
    "JOIN cleaned_004_lomo_products_dataset AS product_cat \n",
    "ON product_cat.product_category_name = product_translation.product_category_name_portugese\n",
    "join cleaned_007_lomo_order_items_dataset as order_item on product_cat.product_id = order_item.product_id;\n",
    "\"\"\"\n",
    "\n",
    "# Execute the query\n",
    "result = %sql $query\n",
    "\n",
    "# Convert to DataFrame (optional)\n",
    "df_result = pd.DataFrame(result)\n"
   ]
  },
  {
   "cell_type": "code",
   "execution_count": null,
   "metadata": {},
   "outputs": [],
   "source": [
    "%sql select * from products_ord_sell_in_eng limit 5;"
   ]
  },
  {
   "cell_type": "markdown",
   "metadata": {},
   "source": [
    "## Create a table (all_sales_w_delivery_status) to take into account delivery status"
   ]
  },
  {
   "cell_type": "code",
   "execution_count": null,
   "metadata": {},
   "outputs": [],
   "source": [
    "\n",
    "\n",
    "query = \"\"\"\n",
    "DROP TABLE IF EXISTS all_sales_w_delivery_status;\n",
    "\n",
    "cREATE TABLE all_sales_w_delivery_status AS\n",
    "SELECT products_ord_sell_in_eng.*, customer_id, order_status, order_purchase_timestamp, order_delivered_carrier_date, order_delivered_customer_date, order_estimated_delivery_date\n",
    "FROM cleaned_006_lomo_orders_dataset AS order_status\n",
    "JOIN products_ord_sell_in_eng on products_ord_sell_in_eng.order_id COLLATE utf8mb4_unicode_ci = order_status.order_id\n",
    "\"\"\"\n",
    "\n",
    "# Execute the query\n",
    "result = %sql $query\n",
    "\n",
    "# Convert to DataFrame (optional)\n",
    "df_result = pd.DataFrame(result)"
   ]
  },
  {
   "cell_type": "code",
   "execution_count": 147,
   "metadata": {},
   "outputs": [
    {
     "data": {
      "text/html": [
       "<div>\n",
       "<style scoped>\n",
       "    .dataframe tbody tr th:only-of-type {\n",
       "        vertical-align: middle;\n",
       "    }\n",
       "\n",
       "    .dataframe tbody tr th {\n",
       "        vertical-align: top;\n",
       "    }\n",
       "\n",
       "    .dataframe thead th {\n",
       "        text-align: right;\n",
       "    }\n",
       "</style>\n",
       "<table border=\"1\" class=\"dataframe\">\n",
       "  <thead>\n",
       "    <tr style=\"text-align: right;\">\n",
       "      <th></th>\n",
       "    </tr>\n",
       "  </thead>\n",
       "  <tbody>\n",
       "  </tbody>\n",
       "</table>\n",
       "</div>"
      ],
      "text/plain": [
       "Empty DataFrame\n",
       "Columns: []\n",
       "Index: []"
      ]
     },
     "execution_count": 147,
     "metadata": {},
     "output_type": "execute_result"
    }
   ],
   "source": [
    "df_result.head()"
   ]
  },
  {
   "cell_type": "markdown",
   "metadata": {},
   "source": [
    "## What is the segment with the higest revenue"
   ]
  },
  {
   "cell_type": "markdown",
   "metadata": {},
   "source": [
    "# Key assumption for the revenue from delivery -- Sellers gets refunded by Lomo if the package gets lost during shipping (Using Lomo's lost during shipping policy and assuming they all have insurance)"
   ]
  },
  {
   "cell_type": "code",
   "execution_count": null,
   "metadata": {},
   "outputs": [],
   "source": [
    "query = \"\"\"\n",
    "SELECT \n",
    "        product_category_name_english, \n",
    "        product_id, \n",
    "        count(product_id) as qty,\n",
    "        SUM(price) AS total_revenue,\n",
    "        ROW_NUMBER() OVER (PARTITION BY product_category_name_english ORDER BY SUM(price) DESC) AS ranked\n",
    "    FROM all_sales_w_delivery_status\n",
    "    WHERE order_status = \"delivered\" or \"shipped\"\n",
    "    GROUP BY product_category_name_english, product_id\n",
    "    \"\"\"\n",
    "top10_total_revenue = %sql $query\n",
    "\n",
    "df_top10_total_revenue = pd.DataFrame(top10_total_revenue)\n",
    "\n",
    "\n",
    "df_top10_total_revenue.head()\n"
   ]
  },
  {
   "cell_type": "code",
   "execution_count": null,
   "metadata": {},
   "outputs": [],
   "source": [
    "query = \"\"\"\n",
    "SELECT \n",
    "        product_category_name_english, \n",
    "        count(product_id) as qty,\n",
    "        SUM(price) AS total_revenue\n",
    "    FROM all_sales_w_delivery_status\n",
    "    WHERE order_status = \"delivered\" or \"shipped\"\n",
    "    GROUP BY product_category_name_english\n",
    "    order by total_revenue desc\n",
    "    limit 15;\n",
    "    \"\"\"\n",
    "top10_total_revenue = %sql $query\n",
    "\n",
    "df_top10_total_revenue_by_prod_id = pd.DataFrame(top10_total_revenue)\n",
    "\n",
    "\n",
    "df_top10_total_revenue_by_prod_id.head()\n"
   ]
  },
  {
   "cell_type": "markdown",
   "metadata": {},
   "source": [
    "## What is the product segment with the higest potential?"
   ]
  },
  {
   "cell_type": "code",
   "execution_count": null,
   "metadata": {},
   "outputs": [],
   "source": [
    "query = \"\"\"\n",
    "\n",
    "SELECT *\n",
    "FROM (\n",
    "    SELECT \n",
    "        product_category_name_english, \n",
    "        DATE_FORMAT(STR_TO_DATE(order_purchase_timestamp, '%d/%m/%Y %H:%i'), '%Y-%m') AS month_year,\n",
    "        COUNT(product_id) AS qty_sold,\n",
    "        SUM(price) AS total_revenue,\n",
    "        ROW_NUMBER() OVER (PARTITION BY product_category_name_english ORDER BY SUM(price) DESC) AS ranked\n",
    "    FROM \n",
    "        all_sales_w_delivery_status\n",
    "    WHERE \n",
    "        STR_TO_DATE(order_purchase_timestamp, '%d/%m/%Y %H:%i') BETWEEN '2018-01-01' AND '2018-12-31'\n",
    "    GROUP BY \n",
    "        product_category_name_english, \n",
    "        month_year\n",
    ") AS ranked_products\n",
    "ORDER BY product_category_name_english, month_year desc;\n",
    "\"\"\"\n",
    "\n",
    "# Execute the query\n",
    "result = %sql $query\n",
    "\n",
    "# Convert to DataFrame (optional)\n",
    "df_highest_potential = pd.DataFrame(result)\n",
    "\n",
    "df_highest_potential.head()\n"
   ]
  },
  {
   "cell_type": "code",
   "execution_count": 193,
   "metadata": {},
   "outputs": [
    {
     "data": {
      "text/html": [
       "<div>\n",
       "<style scoped>\n",
       "    .dataframe tbody tr th:only-of-type {\n",
       "        vertical-align: middle;\n",
       "    }\n",
       "\n",
       "    .dataframe tbody tr th {\n",
       "        vertical-align: top;\n",
       "    }\n",
       "\n",
       "    .dataframe thead th {\n",
       "        text-align: right;\n",
       "    }\n",
       "</style>\n",
       "<table border=\"1\" class=\"dataframe\">\n",
       "  <thead>\n",
       "    <tr style=\"text-align: right;\">\n",
       "      <th></th>\n",
       "      <th>product_category_name_english</th>\n",
       "      <th>total_revenue_jan</th>\n",
       "      <th>total_revenue_latest</th>\n",
       "      <th>revenue_growth</th>\n",
       "    </tr>\n",
       "  </thead>\n",
       "  <tbody>\n",
       "    <tr>\n",
       "      <th>0</th>\n",
       "      <td>kitchen_dining_laundry_garden_furniture</td>\n",
       "      <td>4838.5</td>\n",
       "      <td>145.0</td>\n",
       "      <td>-4693.5</td>\n",
       "    </tr>\n",
       "  </tbody>\n",
       "</table>\n",
       "</div>"
      ],
      "text/plain": [
       "             product_category_name_english  total_revenue_jan  \\\n",
       "0  kitchen_dining_laundry_garden_furniture             4838.5   \n",
       "\n",
       "   total_revenue_latest  revenue_growth  \n",
       "0                 145.0         -4693.5  "
      ]
     },
     "execution_count": 193,
     "metadata": {},
     "output_type": "execute_result"
    }
   ],
   "source": [
    "# Convert the 'month_year' column to datetime for sorting and filtering\n",
    "df_highest_potential['month_year'] = pd.to_datetime(df_highest_potential['month_year'], format='%Y-%m')\n",
    "\n",
    "# Filter for January 2018 and the latest month in 2018\n",
    "january_df = df_highest_potential[df_highest_potential['month_year'] == '2018-01-01']\n",
    "latest_month = df_highest_potential['month_year'].max()\n",
    "latest_df = df_highest_potential[df_highest_potential['month_year'] == latest_month]\n",
    "\n",
    "# Merge the data for January and the latest month on 'product_category_name_english'\n",
    "growth_df = pd.merge(january_df, latest_df, on='product_category_name_english', suffixes=('_jan', '_latest'))\n",
    "\n",
    "# Calculate the total revenue growth\n",
    "growth_df['revenue_growth'] = growth_df['total_revenue_latest'] - growth_df['total_revenue_jan']\n",
    "\n",
    "# Sort by highest revenue growth\n",
    "growth_df_sorted = growth_df[['product_category_name_english', 'total_revenue_jan', 'total_revenue_latest', 'revenue_growth']]\n",
    "growth_df_sorted = growth_df_sorted.sort_values(by='revenue_growth', ascending=False)\n",
    "\n",
    "# Display the top results\n",
    "growth_df_sorted.head()"
   ]
  },
  {
   "cell_type": "markdown",
   "metadata": {},
   "source": [
    "## Customer Count by State and City"
   ]
  },
  {
   "cell_type": "code",
   "execution_count": null,
   "metadata": {},
   "outputs": [],
   "source": [
    "query = \"\"\" \n",
    "SELECT \n",
    "    customer_state, \n",
    "    customer_city, \n",
    "    COUNT(customer_id) AS customer_count\n",
    "FROM \n",
    "    X.cleaned_001_lomo_customers_dataset\n",
    "GROUP BY \n",
    "    customer_state, \n",
    "    customer_city\n",
    "ORDER BY \n",
    "    customer_city desc;\n",
    "\"\"\"\n",
    "# Execute the query\n",
    "result = %sql $query\n",
    "\n",
    "# Convert to DataFrame (optional)\n",
    "highest_customer_count = pd.DataFrame(result)\n",
    "\n",
    "highest_customer_count.head()\n",
    "\n",
    "    "
   ]
  },
  {
   "cell_type": "code",
   "execution_count": 168,
   "metadata": {},
   "outputs": [
    {
     "data": {
      "text/html": [
       "<div>\n",
       "<style scoped>\n",
       "    .dataframe tbody tr th:only-of-type {\n",
       "        vertical-align: middle;\n",
       "    }\n",
       "\n",
       "    .dataframe tbody tr th {\n",
       "        vertical-align: top;\n",
       "    }\n",
       "\n",
       "    .dataframe thead th {\n",
       "        text-align: right;\n",
       "    }\n",
       "</style>\n",
       "<table border=\"1\" class=\"dataframe\">\n",
       "  <thead>\n",
       "    <tr style=\"text-align: right;\">\n",
       "      <th></th>\n",
       "      <th>customer_state</th>\n",
       "      <th>customer_city</th>\n",
       "      <th>customer_count</th>\n",
       "    </tr>\n",
       "  </thead>\n",
       "  <tbody>\n",
       "    <tr>\n",
       "      <th>0</th>\n",
       "      <td>Pattani</td>\n",
       "      <td>Yaring</td>\n",
       "      <td>347</td>\n",
       "    </tr>\n",
       "    <tr>\n",
       "      <th>1</th>\n",
       "      <td>Kalasin</td>\n",
       "      <td>Yang Talat</td>\n",
       "      <td>533</td>\n",
       "    </tr>\n",
       "    <tr>\n",
       "      <th>2</th>\n",
       "      <td>Maha Sarakham</td>\n",
       "      <td>Yang Sisurat</td>\n",
       "      <td>206</td>\n",
       "    </tr>\n",
       "    <tr>\n",
       "      <th>3</th>\n",
       "      <td>Si Sa Ket</td>\n",
       "      <td>Yang Chum Noi</td>\n",
       "      <td>173</td>\n",
       "    </tr>\n",
       "    <tr>\n",
       "      <th>4</th>\n",
       "      <td>Lamphun</td>\n",
       "      <td>Wiang Nong Long</td>\n",
       "      <td>67</td>\n",
       "    </tr>\n",
       "  </tbody>\n",
       "</table>\n",
       "</div>"
      ],
      "text/plain": [
       "  customer_state    customer_city  customer_count\n",
       "0        Pattani           Yaring             347\n",
       "1        Kalasin       Yang Talat             533\n",
       "2  Maha Sarakham     Yang Sisurat             206\n",
       "3      Si Sa Ket    Yang Chum Noi             173\n",
       "4        Lamphun  Wiang Nong Long              67"
      ]
     },
     "execution_count": 168,
     "metadata": {},
     "output_type": "execute_result"
    }
   ],
   "source": [
    "highest_customer_count.head()"
   ]
  },
  {
   "cell_type": "markdown",
   "metadata": {},
   "source": [
    "## Breakdown by revenue and customer state"
   ]
  },
  {
   "cell_type": "code",
   "execution_count": null,
   "metadata": {},
   "outputs": [],
   "source": [
    "query = \"\"\"\n",
    "\n",
    "SELECT \n",
    "    customers.customer_state, \n",
    "    customers.customer_city, \n",
    "    SUM(sales.price) AS total_revenue,\n",
    "    COUNT(sales.order_id) AS total_orders\n",
    "FROM \n",
    "    all_sales_w_delivery_status AS sales\n",
    "JOIN \n",
    "    cleaned_001_lomo_customers_dataset AS customers \n",
    "    ON sales.customer_id COLLATE utf8mb4_unicode_ci = customers.customer_id COLLATE utf8mb4_unicode_ci\n",
    "GROUP BY \n",
    "    customers.customer_state, \n",
    "    customers.customer_city\n",
    "ORDER BY \n",
    "    total_revenue DESC;\n",
    "\"\"\"\n",
    "\n",
    "# Execute the query\n",
    "result = %sql $query\n",
    "\n",
    "# Convert to DataFrame (optional)\n",
    "rev_by_location = pd.DataFrame(result)\n",
    "\n",
    "rev_by_location.head()\n"
   ]
  },
  {
   "cell_type": "code",
   "execution_count": 186,
   "metadata": {},
   "outputs": [
    {
     "data": {
      "text/html": [
       "<div>\n",
       "<style scoped>\n",
       "    .dataframe tbody tr th:only-of-type {\n",
       "        vertical-align: middle;\n",
       "    }\n",
       "\n",
       "    .dataframe tbody tr th {\n",
       "        vertical-align: top;\n",
       "    }\n",
       "\n",
       "    .dataframe thead th {\n",
       "        text-align: right;\n",
       "    }\n",
       "</style>\n",
       "<table border=\"1\" class=\"dataframe\">\n",
       "  <thead>\n",
       "    <tr style=\"text-align: right;\">\n",
       "      <th></th>\n",
       "      <th>customer_state</th>\n",
       "      <th>customer_city</th>\n",
       "      <th>total_revenue</th>\n",
       "      <th>total_orders</th>\n",
       "    </tr>\n",
       "  </thead>\n",
       "  <tbody>\n",
       "    <tr>\n",
       "      <th>0</th>\n",
       "      <td>Amnat Charoen</td>\n",
       "      <td>Mueang Amnat Charoen</td>\n",
       "      <td>164271.85</td>\n",
       "      <td>1301</td>\n",
       "    </tr>\n",
       "    <tr>\n",
       "      <th>1</th>\n",
       "      <td>Si Sa Ket</td>\n",
       "      <td>Khukhan</td>\n",
       "      <td>137351.54</td>\n",
       "      <td>1189</td>\n",
       "    </tr>\n",
       "    <tr>\n",
       "      <th>2</th>\n",
       "      <td>Sakon Nakhon</td>\n",
       "      <td>Sawang Daen Din</td>\n",
       "      <td>122341.86</td>\n",
       "      <td>1006</td>\n",
       "    </tr>\n",
       "    <tr>\n",
       "      <th>3</th>\n",
       "      <td>Si Sa Ket</td>\n",
       "      <td>Kantharalak</td>\n",
       "      <td>118925.64</td>\n",
       "      <td>922</td>\n",
       "    </tr>\n",
       "    <tr>\n",
       "      <th>4</th>\n",
       "      <td>Chachoengsao</td>\n",
       "      <td>Ban Pho</td>\n",
       "      <td>117985.41</td>\n",
       "      <td>916</td>\n",
       "    </tr>\n",
       "  </tbody>\n",
       "</table>\n",
       "</div>"
      ],
      "text/plain": [
       "  customer_state         customer_city  total_revenue  total_orders\n",
       "0  Amnat Charoen  Mueang Amnat Charoen      164271.85          1301\n",
       "1      Si Sa Ket               Khukhan      137351.54          1189\n",
       "2   Sakon Nakhon       Sawang Daen Din      122341.86          1006\n",
       "3      Si Sa Ket           Kantharalak      118925.64           922\n",
       "4   Chachoengsao               Ban Pho      117985.41           916"
      ]
     },
     "execution_count": 186,
     "metadata": {},
     "output_type": "execute_result"
    }
   ],
   "source": [
    "rev_by_location.head()"
   ]
  },
  {
   "cell_type": "code",
   "execution_count": null,
   "metadata": {},
   "outputs": [],
   "source": [
    "## Determine which leads are won \n",
    "\n",
    "query = \"\"\"\n",
    "\n",
    "SELECT \n",
    "    leads.origin, \n",
    "\tdeals.business_segment, \n",
    "    COUNT(deals.won_date) AS total_won_leads\n",
    "FROM \n",
    "    cleaned_010_lomo_marketing_qualified_leads_dataset AS leads\n",
    "JOIN \n",
    "    cleaned_011_lomo_closed_deals_dataset AS deals \n",
    "ON \n",
    "    leads.mql_id = deals.mql_id\n",
    "GROUP BY \n",
    "    leads.origin,\n",
    "    deals.business_segment\n",
    "ORDER BY \n",
    "    total_won_leads DESC;\n",
    ";\n",
    "\"\"\"\n",
    "\n",
    "# Execute the query\n",
    "result = %sql $query\n",
    "\n",
    "# Convert to DataFrame (optional)\n",
    "leads_won_by_segment = pd.DataFrame(result)\n",
    "\n",
    "leads_won_by_segment.head()\n"
   ]
  },
  {
   "cell_type": "markdown",
   "metadata": {},
   "source": [
    "## Identify which channel wins the most leads"
   ]
  },
  {
   "cell_type": "code",
   "execution_count": null,
   "metadata": {},
   "outputs": [],
   "source": [
    "\n",
    "query = \"\"\"SELECT \n",
    "    leads.origin, \n",
    "    COUNT(deals.won_date) AS total_won_leads\n",
    "FROM \n",
    "    cleaned_010_lomo_marketing_qualified_leads_dataset AS leads\n",
    "JOIN \n",
    "    cleaned_011_lomo_closed_deals_dataset AS deals \n",
    "ON \n",
    "    leads.mql_id = deals.mql_id\n",
    "GROUP BY \n",
    "    leads.origin\n",
    "ORDER BY \n",
    "    total_won_leads DESC;\n",
    "    \"\"\"\n",
    "\n",
    "# Execute the query\n",
    "result = %sql $query\n",
    "\n",
    "# Convert to DataFrame (optional)\n",
    "leads_won_overview = pd.DataFrame(result)\n",
    "\n",
    "leads_won_overview.head()\n"
   ]
  },
  {
   "cell_type": "markdown",
   "metadata": {},
   "source": [
    "## Revenue by customer and location\n"
   ]
  },
  {
   "cell_type": "code",
   "execution_count": 188,
   "metadata": {},
   "outputs": [],
   "source": [
    "import plotly.graph_objects as go"
   ]
  },
  {
   "cell_type": "code",
   "execution_count": 177,
   "metadata": {},
   "outputs": [
    {
     "name": "stdout",
     "output_type": "stream",
     "text": [
      "RangeIndex(start=0, stop=0, step=1)\n"
     ]
    }
   ],
   "source": [
    "print(rev_by_location.columns)\n"
   ]
  },
  {
   "cell_type": "code",
   "execution_count": 191,
   "metadata": {},
   "outputs": [
    {
     "ename": "ValueError",
     "evalue": "Mime type rendering requires nbformat>=4.2.0 but it is not installed",
     "output_type": "error",
     "traceback": [
      "\u001b[0;31m---------------------------------------------------------------------------\u001b[0m",
      "\u001b[0;31mValueError\u001b[0m                                Traceback (most recent call last)",
      "Cell \u001b[0;32mIn[191], line 50\u001b[0m\n\u001b[1;32m     29\u001b[0m fig_rev_from_cust\u001b[38;5;241m.\u001b[39mupdate_layout(\n\u001b[1;32m     30\u001b[0m     title\u001b[38;5;241m=\u001b[39m\u001b[38;5;124m'\u001b[39m\u001b[38;5;124mTop 10 Cities by Total Revenue and Total Orders (Dual-Axis)\u001b[39m\u001b[38;5;124m'\u001b[39m,\n\u001b[1;32m     31\u001b[0m     xaxis_title\u001b[38;5;241m=\u001b[39m\u001b[38;5;124m'\u001b[39m\u001b[38;5;124mCity, State\u001b[39m\u001b[38;5;124m'\u001b[39m,\n\u001b[0;32m   (...)\u001b[0m\n\u001b[1;32m     46\u001b[0m     title_x\u001b[38;5;241m=\u001b[39m\u001b[38;5;241m0.5\u001b[39m\n\u001b[1;32m     47\u001b[0m )\n\u001b[1;32m     49\u001b[0m \u001b[38;5;66;03m# Show the plot\u001b[39;00m\n\u001b[0;32m---> 50\u001b[0m \u001b[43mfig_rev_from_cust\u001b[49m\u001b[38;5;241;43m.\u001b[39;49m\u001b[43mshow\u001b[49m\u001b[43m(\u001b[49m\u001b[43m)\u001b[49m\n",
      "File \u001b[0;32m~/Library/Python/3.9/lib/python/site-packages/plotly/basedatatypes.py:3410\u001b[0m, in \u001b[0;36mBaseFigure.show\u001b[0;34m(self, *args, **kwargs)\u001b[0m\n\u001b[1;32m   3377\u001b[0m \u001b[38;5;250m\u001b[39m\u001b[38;5;124;03m\"\"\"\u001b[39;00m\n\u001b[1;32m   3378\u001b[0m \u001b[38;5;124;03mShow a figure using either the default renderer(s) or the renderer(s)\u001b[39;00m\n\u001b[1;32m   3379\u001b[0m \u001b[38;5;124;03mspecified by the renderer argument\u001b[39;00m\n\u001b[0;32m   (...)\u001b[0m\n\u001b[1;32m   3406\u001b[0m \u001b[38;5;124;03mNone\u001b[39;00m\n\u001b[1;32m   3407\u001b[0m \u001b[38;5;124;03m\"\"\"\u001b[39;00m\n\u001b[1;32m   3408\u001b[0m \u001b[38;5;28;01mimport\u001b[39;00m \u001b[38;5;21;01mplotly\u001b[39;00m\u001b[38;5;21;01m.\u001b[39;00m\u001b[38;5;21;01mio\u001b[39;00m \u001b[38;5;28;01mas\u001b[39;00m \u001b[38;5;21;01mpio\u001b[39;00m\n\u001b[0;32m-> 3410\u001b[0m \u001b[38;5;28;01mreturn\u001b[39;00m \u001b[43mpio\u001b[49m\u001b[38;5;241;43m.\u001b[39;49m\u001b[43mshow\u001b[49m\u001b[43m(\u001b[49m\u001b[38;5;28;43mself\u001b[39;49m\u001b[43m,\u001b[49m\u001b[43m \u001b[49m\u001b[38;5;241;43m*\u001b[39;49m\u001b[43margs\u001b[49m\u001b[43m,\u001b[49m\u001b[43m \u001b[49m\u001b[38;5;241;43m*\u001b[39;49m\u001b[38;5;241;43m*\u001b[39;49m\u001b[43mkwargs\u001b[49m\u001b[43m)\u001b[49m\n",
      "File \u001b[0;32m~/Library/Python/3.9/lib/python/site-packages/plotly/io/_renderers.py:394\u001b[0m, in \u001b[0;36mshow\u001b[0;34m(fig, renderer, validate, **kwargs)\u001b[0m\n\u001b[1;32m    389\u001b[0m         \u001b[38;5;28;01mraise\u001b[39;00m \u001b[38;5;167;01mValueError\u001b[39;00m(\n\u001b[1;32m    390\u001b[0m             \u001b[38;5;124m\"\u001b[39m\u001b[38;5;124mMime type rendering requires ipython but it is not installed\u001b[39m\u001b[38;5;124m\"\u001b[39m\n\u001b[1;32m    391\u001b[0m         )\n\u001b[1;32m    393\u001b[0m     \u001b[38;5;28;01mif\u001b[39;00m \u001b[38;5;129;01mnot\u001b[39;00m nbformat \u001b[38;5;129;01mor\u001b[39;00m Version(nbformat\u001b[38;5;241m.\u001b[39m__version__) \u001b[38;5;241m<\u001b[39m Version(\u001b[38;5;124m\"\u001b[39m\u001b[38;5;124m4.2.0\u001b[39m\u001b[38;5;124m\"\u001b[39m):\n\u001b[0;32m--> 394\u001b[0m         \u001b[38;5;28;01mraise\u001b[39;00m \u001b[38;5;167;01mValueError\u001b[39;00m(\n\u001b[1;32m    395\u001b[0m             \u001b[38;5;124m\"\u001b[39m\u001b[38;5;124mMime type rendering requires nbformat>=4.2.0 but it is not installed\u001b[39m\u001b[38;5;124m\"\u001b[39m\n\u001b[1;32m    396\u001b[0m         )\n\u001b[1;32m    398\u001b[0m     ipython_display\u001b[38;5;241m.\u001b[39mdisplay(bundle, raw\u001b[38;5;241m=\u001b[39m\u001b[38;5;28;01mTrue\u001b[39;00m)\n\u001b[1;32m    400\u001b[0m \u001b[38;5;66;03m# external renderers\u001b[39;00m\n",
      "\u001b[0;31mValueError\u001b[0m: Mime type rendering requires nbformat>=4.2.0 but it is not installed"
     ]
    }
   ],
   "source": [
    "\n",
    "# Assuming 'rev_by_location' is your DataFrame, create the top 10 based on total revenue\n",
    "df_top10_revenue = rev_by_location.sort_values(by='total_revenue', ascending=False).head(10)\n",
    "\n",
    "# Create a dual-axis plot with Plotly\n",
    "\n",
    "# Create a figure for the first y-axis (total revenue)\n",
    "fig_rev_from_cust = go.Figure()\n",
    "\n",
    "# Add 'total_revenue' bars to the first y-axis\n",
    "fig_rev_from_cust.add_trace(go.Bar(\n",
    "    x=df_top10_revenue['customer_city'] + ', ' + df_top10_revenue['customer_state'],\n",
    "    y=df_top10_revenue['total_revenue'],  # total revenue on the primary y-axis\n",
    "    name='Total Revenue',\n",
    "    marker_color='indianred',\n",
    "    yaxis='y'\n",
    "))\n",
    "\n",
    "# Add 'total_orders' as a line on the secondary y-axis\n",
    "fig_rev_from_cust.add_trace(go.Scatter(\n",
    "    x=df_top10_revenue['customer_city'] + ', ' + df_top10_revenue['customer_state'],\n",
    "    y=df_top10_revenue['total_orders'],  # total orders on the secondary y-axis\n",
    "    name='Total Orders',\n",
    "    marker_color='lightblue',\n",
    "    yaxis='y2',\n",
    "    mode='lines+markers'\n",
    "))\n",
    "\n",
    "# Update the layout with two y-axes\n",
    "fig_rev_from_cust.update_layout(\n",
    "    title='Top 10 Cities by Total Revenue and Total Orders (Dual-Axis)',\n",
    "    xaxis_title='City, State',\n",
    "    yaxis=dict(\n",
    "        title='Total Revenue',\n",
    "        titlefont=dict(color='indianred'),\n",
    "        tickfont=dict(color='indianred'),\n",
    "    ),\n",
    "    yaxis2=dict(\n",
    "        title='Total Orders',\n",
    "        titlefont=dict(color='lightblue'),\n",
    "        tickfont=dict(color='lightblue'),\n",
    "        anchor='x',\n",
    "        overlaying='y',\n",
    "        side='right'\n",
    "    ),\n",
    "    xaxis_tickangle=-45,\n",
    "    title_x=0.5\n",
    ")\n",
    "\n",
    "# Show the plot\n",
    "fig_rev_from_cust.show()\n",
    "\n"
   ]
  }
 ],
 "metadata": {
  "kernelspec": {
   "display_name": "Python 3",
   "language": "python",
   "name": "python3"
  },
  "language_info": {
   "codemirror_mode": {
    "name": "ipython",
    "version": 3
   },
   "file_extension": ".py",
   "mimetype": "text/x-python",
   "name": "python",
   "nbconvert_exporter": "python",
   "pygments_lexer": "ipython3",
   "version": "3.9.6"
  }
 },
 "nbformat": 4,
 "nbformat_minor": 2
}
